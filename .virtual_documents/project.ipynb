








import pandas as pd 
import csv
import numpy as np
import matplotlib.pyplot as plt
import seaborn as sns
import requests

%matplotlib inline 

#df = pd.concat(
   # [pd.read_csv(ZipFile('archive.zip').open(i)) for i in ZipFile('archive.zip').namelist()],
   # ignore_index=True




Aviation_Data = pd.read_csv("AviationData.csv", encoding='latin1',low_memory=False)

Aviation_Data.head()


Aviation_Data.columns


#preliminary Structure
Aviation_Data.info()


Aviation_Data.shape


# Descreptive Analysis on Numeric features
Aviation_Data.describe()


# Descreptive analysis on Categorical features
Aviation_Data.describe(include=['O'])





print(Aviation_Data.duplicated().sum())
print(Aviation_Data.isna().sum().sum())


inspect columns for unique values, and also sort them by its amount.



for column_name in Aviation_Data.columns:
    print(f'Column name: {column_name}, number of unique values: {Aviation_Data[column_name].nunique()}')
    print(Aviation_Data[column_name].value_counts())
    print('-----------')


Aviation_Data.head()


Aviation_Data.corr





Us_state.info()




























Us_state.shape


Us_state.duplicated().value_counts()


 



